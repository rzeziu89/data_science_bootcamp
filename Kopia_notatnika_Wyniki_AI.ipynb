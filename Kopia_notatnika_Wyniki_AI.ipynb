{
  "nbformat": 4,
  "nbformat_minor": 0,
  "metadata": {
    "colab": {
      "provenance": [],
      "mount_file_id": "https://github.com/rzeziu89/data_science_bootcamp/blob/main/Wyniki_AI.ipynb",
      "authorship_tag": "ABX9TyOCvgmn6IwX9LgMwEr6Yw1g",
      "include_colab_link": true
    },
    "kernelspec": {
      "name": "python3",
      "display_name": "Python 3"
    },
    "language_info": {
      "name": "python"
    }
  },
  "cells": [
    {
      "cell_type": "markdown",
      "metadata": {
        "id": "view-in-github",
        "colab_type": "text"
      },
      "source": [
        "<a href=\"https://colab.research.google.com/github/rzeziu89/data_science_bootcamp/blob/main/Kopia_notatnika_Wyniki_AI.ipynb\" target=\"_parent\"><img src=\"https://colab.research.google.com/assets/colab-badge.svg\" alt=\"Open In Colab\"/></a>"
      ]
    },
    {
      "cell_type": "markdown",
      "source": [
        "Podstawy"
      ],
      "metadata": {
        "id": "CdKPftUK1loj"
      }
    },
    {
      "cell_type": "code",
      "execution_count": null,
      "metadata": {
        "id": "1OrQNLeGwvxB"
      },
      "outputs": [],
      "source": [
        "import numpy as np\n",
        "import pandas as pd\n",
        "from scipy.stats import chi2_contingency\n",
        "from scipy.stats import chi2\n"
      ]
    },
    {
      "cell_type": "code",
      "source": [
        "data = pd.DataFrame({\n",
        "    \"Kat1\": [15,0],\n",
        "    \"Kat2\": [11,0],\n",
        "    \"Kat3\": [4,3],\n",
        "    \"Kat4\": [1,10],\n",
        "    \"Kat5\": [38,16],\n",
        "    \"Kat6\": [0, 32],\n",
        "    \"Kat7\": [10,45],\n",
        "    \"Kat8\": [46,53],\n",
        "    \"Kat9\": [67,34],\n",
        "    \"Kat10\": [1,0]\n",
        "}, index = [\"Embriolog\", \"EmbryoAID\"])\n",
        "data = data.T\n",
        "print(data)\n"
      ],
      "metadata": {
        "id": "QMeWsi-FxHUt",
        "outputId": "40a4a1e6-069f-4780-ddb2-49550f069e3f",
        "colab": {
          "base_uri": "https://localhost:8080/"
        }
      },
      "execution_count": null,
      "outputs": [
        {
          "output_type": "stream",
          "name": "stdout",
          "text": [
            "       Embriolog  EmbryoAID\n",
            "Kat1          15          0\n",
            "Kat2          11          0\n",
            "Kat3           4          3\n",
            "Kat4           1         10\n",
            "Kat5          38         16\n",
            "Kat6           0         32\n",
            "Kat7          10         45\n",
            "Kat8          46         53\n",
            "Kat9          67         34\n",
            "Kat10          1          0\n"
          ]
        }
      ]
    },
    {
      "cell_type": "code",
      "source": [
        "X2, p, dof, expected = \\\n",
        "    chi2_contingency(data)\n",
        "\n",
        "alpha = 0.05\n",
        "\n",
        "X2_table = chi2.ppf((1-alpha),dof)\n",
        "print(f'p-value:{p}')\n",
        "print(f\"Stopnie swobody:{dof}\")\n",
        "print(f\"expected:\\n:{expected}\")\n",
        "if X2 > X2_table:\n",
        "  print('Istnieje zależność')\n",
        "elif X2 <X2_table:\n",
        "  print('Nie istnieje zależność')"
      ],
      "metadata": {
        "id": "0Xno1j8wSPz8",
        "outputId": "e37fddc1-6094-4b8a-f42e-298fde991d9b",
        "colab": {
          "base_uri": "https://localhost:8080/"
        }
      },
      "execution_count": null,
      "outputs": [
        {
          "output_type": "stream",
          "name": "stdout",
          "text": [
            "p-value:2.3282537998702554e-19\n",
            "Stopnie swobody:9\n",
            "expected:\n",
            ":[[ 7.5  7.5]\n",
            " [ 5.5  5.5]\n",
            " [ 3.5  3.5]\n",
            " [ 5.5  5.5]\n",
            " [27.  27. ]\n",
            " [16.  16. ]\n",
            " [27.5 27.5]\n",
            " [49.5 49.5]\n",
            " [50.5 50.5]\n",
            " [ 0.5  0.5]]\n",
            "Istnieje zależność\n"
          ]
        }
      ]
    },
    {
      "cell_type": "markdown",
      "source": [
        "# Nowa sekcja"
      ],
      "metadata": {
        "id": "5Vz2TEk45Ykp"
      }
    },
    {
      "cell_type": "code",
      "source": [
        "data2 = pd.DataFrame({\n",
        "    \"Kat1\": [15,0],\n",
        "    \"Kat2\": [11,7],\n",
        "    \"Kat3\": [4,3],\n",
        "    \"Kat4\": [1,3],\n",
        "    \"Kat5\": [38,6],\n",
        "    \"Kat6\": [0, 5],\n",
        "    \"Kat7\": [10,21],\n",
        "    \"Kat8\": [46,29],\n",
        "    \"Kat9\": [67,113],\n",
        "    \"Kat10\": [1,6]\n",
        "}, index = [\"Embriolog\", \"LifeWhisper\"])\n",
        "data2 = data2.T\n",
        "print(data2)"
      ],
      "metadata": {
        "id": "nCKjGZ6Z15_B",
        "outputId": "31adc512-ae33-422a-db7b-b3948b21119a",
        "colab": {
          "base_uri": "https://localhost:8080/"
        }
      },
      "execution_count": null,
      "outputs": [
        {
          "output_type": "stream",
          "name": "stdout",
          "text": [
            "       Embriolog  LifeWhisper\n",
            "Kat1          15            0\n",
            "Kat2          11            7\n",
            "Kat3           4            3\n",
            "Kat4           1            3\n",
            "Kat5          38            6\n",
            "Kat6           0            5\n",
            "Kat7          10           21\n",
            "Kat8          46           29\n",
            "Kat9          67          113\n",
            "Kat10          1            6\n"
          ]
        }
      ]
    },
    {
      "cell_type": "code",
      "source": [
        "X2, p, dof, expected = \\\n",
        "    chi2_contingency(data2)\n",
        "\n",
        "alpha = 0.05\n",
        "\n",
        "X2_table = chi2.ppf((1-alpha),dof)\n",
        "print(f'p-value:{p}')\n",
        "print(f\"Stopnie swobody:{dof}\")\n",
        "print(f\"expected:\\n:{expected}\")\n",
        "if X2 > X2_table:\n",
        "  print('Istnieje zależność')\n",
        "elif X2 <X2_table:\n",
        "  print('Nie istnieje zależność')"
      ],
      "metadata": {
        "id": "mNIWN34DVLwV",
        "outputId": "6ad02b65-4aa0-407d-8186-cac2bb82cfaf",
        "colab": {
          "base_uri": "https://localhost:8080/"
        }
      },
      "execution_count": null,
      "outputs": [
        {
          "output_type": "stream",
          "name": "stdout",
          "text": [
            "p-value:3.1499423702700345e-11\n",
            "Stopnie swobody:9\n",
            "expected:\n",
            ":[[ 7.5  7.5]\n",
            " [ 9.   9. ]\n",
            " [ 3.5  3.5]\n",
            " [ 2.   2. ]\n",
            " [22.  22. ]\n",
            " [ 2.5  2.5]\n",
            " [15.5 15.5]\n",
            " [37.5 37.5]\n",
            " [90.  90. ]\n",
            " [ 3.5  3.5]]\n",
            "Istnieje zależność\n"
          ]
        }
      ]
    },
    {
      "cell_type": "code",
      "source": [
        "data3 = pd.DataFrame({\n",
        "\n",
        "    \"Kat2\": [0,7],\n",
        "    \"Kat3\": [3,3],\n",
        "    \"Kat4\": [10,3],\n",
        "    \"Kat5\": [16,6],\n",
        "    \"Kat6\": [32, 5],\n",
        "    \"Kat7\": [45,21],\n",
        "    \"Kat8\": [53,29],\n",
        "    \"Kat9\": [34,113],\n",
        "    \"Kat10\": [0,6]\n",
        "}, index = [\"EmbryoAid\", \"LifeWhisper\"])\n",
        "data3 = data3.T\n",
        "print(data3)\n"
      ],
      "metadata": {
        "id": "A7Jl14STViJS",
        "outputId": "59b92ace-a642-4e25-c4f4-a1243bc5184a",
        "colab": {
          "base_uri": "https://localhost:8080/"
        }
      },
      "execution_count": null,
      "outputs": [
        {
          "output_type": "stream",
          "name": "stdout",
          "text": [
            "       EmbryoAid  LifeWhisper\n",
            "Kat2           0            7\n",
            "Kat3           3            3\n",
            "Kat4          10            3\n",
            "Kat5          16            6\n",
            "Kat6          32            5\n",
            "Kat7          45           21\n",
            "Kat8          53           29\n",
            "Kat9          34          113\n",
            "Kat10          0            6\n"
          ]
        }
      ]
    },
    {
      "cell_type": "code",
      "source": [
        "X2, p, dof, expected = \\\n",
        "    chi2_contingency(data3)\n",
        "\n",
        "alpha = 0.05\n",
        "\n",
        "X2_table = chi2.ppf((1-alpha),dof)\n",
        "print(f'p-value:{p}')\n",
        "print(f\"Stopnie swobody:{dof}\")\n",
        "print(f\"expected:\\n:{expected}\")\n",
        "if X2 > X2_table:\n",
        "  print('Istnieje zależność')\n",
        "elif X2 <X2_table:\n",
        "  print('Nie istnieje zależność')"
      ],
      "metadata": {
        "id": "yv1oGqBOXojo",
        "outputId": "e790accf-a108-4bb7-ebc5-04ee11f408b8",
        "colab": {
          "base_uri": "https://localhost:8080/"
        }
      },
      "execution_count": null,
      "outputs": [
        {
          "output_type": "stream",
          "name": "stdout",
          "text": [
            "p-value:6.148033138161705e-18\n",
            "Stopnie swobody:8\n",
            "expected:\n",
            ":[[ 3.5  3.5]\n",
            " [ 3.   3. ]\n",
            " [ 6.5  6.5]\n",
            " [11.  11. ]\n",
            " [18.5 18.5]\n",
            " [33.  33. ]\n",
            " [41.  41. ]\n",
            " [73.5 73.5]\n",
            " [ 3.   3. ]]\n",
            "Istnieje zależność\n"
          ]
        }
      ]
    },
    {
      "cell_type": "code",
      "source": [],
      "metadata": {
        "id": "T4eMc8jcXuIP"
      },
      "execution_count": null,
      "outputs": []
    }
  ]
}